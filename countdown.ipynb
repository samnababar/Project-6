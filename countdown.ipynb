{
  "nbformat": 4,
  "nbformat_minor": 0,
  "metadata": {
    "colab": {
      "provenance": []
    },
    "kernelspec": {
      "name": "python3",
      "display_name": "Python 3"
    },
    "language_info": {
      "name": "python"
    }
  },
  "cells": [
    {
      "cell_type": "code",
      "execution_count": 1,
      "metadata": {
        "colab": {
          "base_uri": "https://localhost:8080/"
        },
        "id": "BbqMU6jIlthT",
        "outputId": "762b474c-4659-47c7-86bd-bd87778bb9b6"
      },
      "outputs": [
        {
          "output_type": "stream",
          "name": "stdout",
          "text": [
            "⏰ PYTHON COUNTDOWN TIMER ⏰\n",
            "Enter countdown time (in seconds): 60\n",
            "\n",
            "⏰ TIME'S UP! ⏰\n",
            "\n",
            "Run again? (yes/no): yes\n",
            "⏰ PYTHON COUNTDOWN TIMER ⏰\n",
            "Enter countdown time (in seconds): 50\n",
            "\n",
            "⏰ TIME'S UP! ⏰\n",
            "\n",
            "Run again? (yes/no): no\n",
            "Thanks for using the timer!\n"
          ]
        }
      ],
      "source": [
        "import time\n",
        "\n",
        "def countdown_timer():\n",
        "    \"\"\"Create a countdown timer that takes user input for seconds\"\"\"\n",
        "    print(\"⏰ PYTHON COUNTDOWN TIMER ⏰\")\n",
        "\n",
        "    # Get valid time input from user\n",
        "    while True:\n",
        "        try:\n",
        "            seconds = int(input(\"Enter countdown time (in seconds): \"))\n",
        "            if seconds <= 0:\n",
        "                print(\"Please enter a positive number!\")\n",
        "                continue\n",
        "            break\n",
        "        except ValueError:\n",
        "            print(\"Invalid input! Please enter a number.\")\n",
        "\n",
        "    # Countdown logic\n",
        "    while seconds:\n",
        "        mins, secs = divmod(seconds, 60)\n",
        "        timer = f\"{mins:02d}:{secs:02d}\"\n",
        "        print(timer, end=\"\\r\")  # Overwrite previous line\n",
        "        time.sleep(1)\n",
        "        seconds -= 1\n",
        "\n",
        "    print(\"\\n⏰ TIME'S UP! ⏰\")\n",
        "\n",
        "# Run the timer\n",
        "countdown_timer()\n",
        "\n",
        "# Optional: Add repeat functionality\n",
        "while True:\n",
        "    repeat = input(\"\\nRun again? (yes/no): \").lower()\n",
        "    if repeat == 'yes':\n",
        "        countdown_timer()\n",
        "    elif repeat == 'no':\n",
        "        print(\"Thanks for using the timer!\")\n",
        "        break\n",
        "    else:\n",
        "        print(\"Please enter 'yes' or 'no'.\")\n"
      ]
    }
  ]
}